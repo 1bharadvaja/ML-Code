{
  "nbformat": 4,
  "nbformat_minor": 0,
  "metadata": {
    "colab": {
      "provenance": [],
      "gpuType": "T4",
      "authorship_tag": "ABX9TyO0pO26hANTboRM0Q4VMjjx",
      "include_colab_link": true
    },
    "kernelspec": {
      "name": "python3",
      "display_name": "Python 3"
    },
    "language_info": {
      "name": "python"
    },
    "accelerator": "GPU"
  },
  "cells": [
    {
      "cell_type": "markdown",
      "metadata": {
        "id": "view-in-github",
        "colab_type": "text"
      },
      "source": [
        "<a href=\"https://colab.research.google.com/github/1bharadvaja/ML-Code/blob/master/CUDA_learning.ipynb\" target=\"_parent\"><img src=\"https://colab.research.google.com/assets/colab-badge.svg\" alt=\"Open In Colab\"/></a>"
      ]
    },
    {
      "cell_type": "code",
      "execution_count": null,
      "metadata": {
        "colab": {
          "base_uri": "https://localhost:8080/"
        },
        "id": "Zb0n2caAQjxO",
        "outputId": "50f73315-aa86-4232-cfc3-487438e90c64"
      },
      "outputs": [
        {
          "output_type": "stream",
          "name": "stdout",
          "text": [
            "nvcc: NVIDIA (R) Cuda compiler driver\n",
            "Copyright (c) 2005-2024 NVIDIA Corporation\n",
            "Built on Thu_Jun__6_02:18:23_PDT_2024\n",
            "Cuda compilation tools, release 12.5, V12.5.82\n",
            "Build cuda_12.5.r12.5/compiler.34385749_0\n"
          ]
        }
      ],
      "source": [
        "!nvcc --version"
      ]
    },
    {
      "cell_type": "code",
      "source": [
        "!pip install --quiet \"nvcc4jupyter==1.1.0\"\n"
      ],
      "metadata": {
        "id": "rNF7T74bQwMs"
      },
      "execution_count": null,
      "outputs": []
    },
    {
      "cell_type": "code",
      "source": [
        "%load_ext nvcc4jupyter"
      ],
      "metadata": {
        "colab": {
          "base_uri": "https://localhost:8080/"
        },
        "id": "LNjqGC96Q6Ra",
        "outputId": "ba0436fc-66db-4500-c84c-84c8b8207c1f"
      },
      "execution_count": null,
      "outputs": [
        {
          "output_type": "stream",
          "name": "stdout",
          "text": [
            "Detected platform \"Colab\". Running its setup...\n",
            "Source files will be saved in \"/tmp/tmpdfyy0gr7\".\n"
          ]
        }
      ]
    },
    {
      "cell_type": "code",
      "source": [
        "%%writefile hello.cu\n",
        "#include <stdio.h>\n",
        "#include <cuda_runtime.h>\n",
        "\n",
        "#define CHECK(call) do {                                           \\\n",
        "  cudaError_t err__ = (call);                                      \\\n",
        "  if (err__ != cudaSuccess) {                                      \\\n",
        "    fprintf(stderr, \"CUDA error %s at %s:%d\\n\",                    \\\n",
        "            cudaGetErrorString(err__), __FILE__, __LINE__);        \\\n",
        "    return 1;                                                      \\\n",
        "  }                                                                \\\n",
        "} while (0)\n",
        "\n",
        "__global__ void hello(){\n",
        "  printf(\"Hello from block %u, thread %u\\n\", blockIdx.x, threadIdx.x);\n",
        "}\n",
        "\n",
        "int main(){\n",
        "  int devCount = 0;\n",
        "  CHECK(cudaGetDeviceCount(&devCount));\n",
        "  if (devCount == 0) { fprintf(stderr, \"No CUDA device visible.\\n\"); return 1; }\n",
        "\n",
        "  // Optional: make the device printf buffer large (not needed here, but good habit)\n",
        "  CHECK(cudaDeviceSetLimit(cudaLimitPrintfFifoSize, 8 * 1024 * 1024));\n",
        "\n",
        "  hello<<<2, 2>>>();\n",
        "  CHECK(cudaGetLastError());          // catch launch errors\n",
        "  CHECK(cudaDeviceSynchronize());     // flush device-side printf\n",
        "  CHECK(cudaDeviceReset());           // final flush & clean exit\n",
        "  return 0;\n",
        "}\n"
      ],
      "metadata": {
        "colab": {
          "base_uri": "https://localhost:8080/"
        },
        "id": "CDQAp6h2RCwI",
        "outputId": "7c5fc9d4-9ff1-40b8-92be-e1b58e45f1d8"
      },
      "execution_count": null,
      "outputs": [
        {
          "output_type": "stream",
          "name": "stdout",
          "text": [
            "Writing hello.cu\n"
          ]
        }
      ]
    },
    {
      "cell_type": "code",
      "source": [
        "!nvcc -arch=sm_75 hello.cu -o hello\n",
        "!./hello\n"
      ],
      "metadata": {
        "colab": {
          "base_uri": "https://localhost:8080/"
        },
        "id": "aNOTccrfRJQn",
        "outputId": "1836c9f9-68ca-446b-daee-4526cbf16d78"
      },
      "execution_count": null,
      "outputs": [
        {
          "output_type": "stream",
          "name": "stdout",
          "text": [
            "Hello from block 0, thread 0\n",
            "Hello from block 0, thread 1\n",
            "Hello from block 1, thread 0\n",
            "Hello from block 1, thread 1\n"
          ]
        }
      ]
    },
    {
      "cell_type": "code",
      "source": [
        "%%writefile softmax.cu\n",
        "#include <stdio.h>\n",
        "#include <cuda.h>\n",
        "\n",
        "#include <cuda_runtime.h>\n",
        "#include <math.h>\n",
        "\n",
        "const int N = 1024*32*8;\n",
        "\n",
        "const int threadsPerBlock = 256;\n",
        "const int blocksPerGrid = 128;\n",
        "\n",
        "#define CUDA_CHECK(ans)                        \\\n",
        "    {                                          \\\n",
        "        cudaAssert((ans), __FILE__, __LINE__); \\\n",
        "    }\n",
        "inline void cudaAssert(cudaError_t code, const char *file, int line) {\n",
        "    if (code != cudaSuccess) {\n",
        "        fprintf(stderr, \"CUDA error %s: %s at %s: %d\\n\",\n",
        "                cudaGetErrorName(code), cudaGetErrorString(code),\n",
        "                file, line);\n",
        "        exit(code);\n",
        "    }\n",
        "}\n",
        "\n",
        "\n",
        "\n",
        "\n",
        "\n",
        "__global__ void softmax(float *vec, float *res) {\n",
        "  __shared__ float cache[threadsPerBlock]; //next level on the memory hierarchy, scope is per block so want the number of threads per\n",
        "  float local_max = -INFINITY;\n",
        "  float local_norm = 0.0f;\n",
        "\n",
        "  int tid = threadIdx.x + blockIdx.x * blockDim.x;\n",
        "\n",
        "  int cacheIndex = threadIdx.x; //why? for each block, want one entry for each thread\n",
        "\n",
        "  //online softmax\n",
        "  for (int i = threadIdx.x; i < blocksPerGrid; i+= blockDim.x) {\n",
        "    float x = vec[i];\n",
        "\n",
        "    if (x > local_max) {\n",
        "      local_norm *= expf(local_max - x);\n",
        "      local_max = x;\n",
        "    }\n",
        "    local_norm += expf(x - local_max);\n",
        "  }\n",
        "\n",
        "  __syncthreads(); //i want to try implementing the syncthreads primitive using semaphores later\n",
        "  //now we have thread level local_norms and local_maxes, the next step is to reduce them thru shared memory in logN time to get a globalmax\n",
        "\n",
        "  cache[threadIdx.x] = local_max;\n",
        "  __syncthreads();\n",
        "  for (int stride = threadsPerBlock/2; stride != 0; stride = stride/2) {\n",
        "    if (threadIdx.x < stride) {\n",
        "      cache[threadIdx.x] = fmax(cache[threadIdx.x], cache[threadIdx.x + stride]);\n",
        "    }\n",
        "\n",
        "    __syncthreads();\n",
        "\n",
        "  }\n",
        "  //now we have a global max at cache[0], so we need to correct the local_norm\n",
        "  float global_max = cache[0];\n",
        "  local_norm *= expf(local_max - global_max);\n",
        "\n",
        "  cache[threadIdx.x] = local_norm;\n",
        "\n",
        "  for (int stride = threadsPerBlock/2; stride != 0; stride = stride/2) {\n",
        "    if (threadIdx.x < stride) {\n",
        "      cache[threadIdx.x] += cache[threadIdx.x + stride];\n",
        "    }\n",
        "    __syncthreads();\n",
        "\n",
        "  }\n",
        "\n",
        "  float global_norm = cache[0]; //now we have the global norm stored as well, can actually do the softmax computation now\n",
        "  printf(\"%f\", global_norm);\n",
        "\n",
        "  for (int i = tid; i < N; i += blockDim.x) {\n",
        "    res[i] = expf(vec[i] - global_max) / global_norm;\n",
        "\n",
        "  }\n",
        "\n",
        "\n",
        "\n",
        "}\n",
        "\n",
        "int main() {\n",
        "  dim3 block_size(threadsPerBlock);\n",
        "  dim3 grid_size(blocksPerGrid);\n",
        "\n",
        "  float *vec;\n",
        "  float *res;\n",
        "\n",
        "\n",
        "  vec = (float *)malloc(N*sizeof(float));\n",
        "  res = (float *)malloc(N*sizeof(float));\n",
        "\n",
        "  for (int i = 0; i < N; i++) {\n",
        "    vec[i] = log(i);\n",
        "    res[i] = 0;\n",
        "  }\n",
        "\n",
        "  cudaError_t err;\n",
        "\n",
        "  float *dev_vec;\n",
        "  float *dev_res;\n",
        "\n",
        "  err = cudaMalloc((void**)&dev_vec, N*sizeof(float));\n",
        "  if (err != cudaSuccess) {\n",
        "    fprintf(stderr, \"cudaMalloc failed for dev_vec: %s\\n\", cudaGetErrorString(err));\n",
        "    return;\n",
        "}\n",
        "\n",
        "  err = cudaMalloc((void**)&dev_res, N*sizeof(float));\n",
        "\n",
        "  if (err != cudaSuccess) {\n",
        "    fprintf(stderr, \"cudaMalloc failed for dev_res: %s\\n\", cudaGetErrorString(err));\n",
        "    return;\n",
        "}\n",
        "\n",
        "\n",
        "  cudaMemcpy(dev_vec, vec, N*sizeof(float), cudaMemcpyHostToDevice);\n",
        "\n",
        "  cudaEvent_t start, stop;\n",
        "  CUDA_CHECK(cudaEventCreate(&start));\n",
        "  CUDA_CHECK(cudaEventCreate(&stop));\n",
        "  float ms = 0.f;\n",
        "\n",
        "  CUDA_CHECK(cudaEventRecord(start));\n",
        "\n",
        "  softmax<<<grid_size, block_size>>>(dev_vec, dev_res);\n",
        "\n",
        "  cudaMemcpy(res, dev_res, N*sizeof(float), cudaMemcpyDeviceToHost);\n",
        "\n",
        "\n",
        "  CUDA_CHECK(cudaEventRecord(stop));\n",
        "  CUDA_CHECK(cudaEventSynchronize(stop));\n",
        "  CUDA_CHECK(cudaEventElapsedTime(&ms, start, stop));\n",
        "  printf(\">> Kernel execution time: %f ms\\n\", ms);\n",
        "  printf(\"Slice of res: %f, %f, %f\", res[0], res[1], res[2]);\n",
        "\n",
        "\n",
        "  CUDA_CHECK(cudaEventDestroy(start));\n",
        "  CUDA_CHECK(cudaEventDestroy(stop));\n",
        "\n",
        "}\n",
        "\n"
      ],
      "metadata": {
        "colab": {
          "base_uri": "https://localhost:8080/"
        },
        "id": "47A_t82Zc44V",
        "outputId": "2c43c1b9-3761-45c1-9ed6-0edb303bf374"
      },
      "execution_count": null,
      "outputs": [
        {
          "output_type": "stream",
          "name": "stdout",
          "text": [
            "Overwriting softmax.cu\n"
          ]
        }
      ]
    },
    {
      "cell_type": "code",
      "source": [
        "!nvcc -arch=sm_75 softmax.cu -o softmax\n",
        "!./softmax\n"
      ],
      "metadata": {
        "colab": {
          "base_uri": "https://localhost:8080/"
        },
        "id": "Y59t5kAZyQfJ",
        "outputId": "46fc6d52-b254-4fac-955f-c51863510866"
      },
      "execution_count": null,
      "outputs": [
        {
          "output_type": "stream",
          "name": "stdout",
          "text": [
            "\u001b[01m\u001b[0m\u001b[01msoftmax.cu(99)\u001b[0m: \u001b[01;35mwarning\u001b[0m #117-D: non-void function \u001b[01m\"main\"\u001b[0m should return a value\n",
            "      return;\n",
            "            ^\n",
            "\n",
            "\u001b[01;36m\u001b[0m\u001b[01;36mRemark\u001b[0m: The warnings can be suppressed with \"-diag-suppress <warning-number>\"\n",
            "\n",
            "\u001b[01m\u001b[0m\u001b[01msoftmax.cu(106)\u001b[0m: \u001b[01;35mwarning\u001b[0m #117-D: non-void function \u001b[01m\"main\"\u001b[0m should return a value\n",
            "      return;\n",
            "            ^\n",
            "\n",
            "\u001b[01m\u001b[0m\u001b[01msoftmax.cu(99)\u001b[0m: \u001b[01;35mwarning\u001b[0m #117-D: non-void function \u001b[01m\"main\"\u001b[0m should return a value\n",
            "      return;\n",
            "            ^\n",
            "\n",
            "\u001b[01;36m\u001b[0m\u001b[01;36mRemark\u001b[0m: The warnings can be suppressed with \"-diag-suppress <warning-number>\"\n",
            "\n",
            "\u001b[01m\u001b[0m\u001b[01msoftmax.cu(106)\u001b[0m: \u001b[01;35mwarning\u001b[0m #117-D: non-void function \u001b[01m\"main\"\u001b[0m should return a value\n",
            "      return;\n",
            "            ^\n",
            "\n",
            "CUDA error cudaErrorIllegalAddress: an illegal memory access was encountered at softmax.cu: 124\n"
          ]
        }
      ]
    },
    {
      "cell_type": "code",
      "source": [],
      "metadata": {
        "id": "qkIIMTZSPKaY"
      },
      "execution_count": null,
      "outputs": []
    },
    {
      "cell_type": "code",
      "source": [
        "%%writefile dotprod.cu\n",
        "#include <stdio.h>\n",
        "#include <cuda.h>\n",
        "\n",
        "#include <cuda_runtime.h>\n",
        "#include <math.h>\n",
        "#define imin(a,b) (a<b?a:b)\n",
        "\n",
        "\n",
        "\n",
        "const int N = 1024;\n",
        "const int threadsPerBlock = 256;\n",
        "\n",
        "const int blocksPerGrid = imin(32, (N + threadsPerBlock - 1)/threadsPerBlock);\n",
        "\n",
        "\n",
        "\n",
        "\n",
        "#define CUDA_CHECK(ans)                        \\\n",
        "    {                                          \\\n",
        "        cudaAssert((ans), __FILE__, __LINE__); \\\n",
        "    }\n",
        "inline void cudaAssert(cudaError_t code, const char *file, int line) {\n",
        "    if (code != cudaSuccess) {\n",
        "        fprintf(stderr, \"CUDA error %s: %s at %s: %d\\n\",\n",
        "                cudaGetErrorName(code), cudaGetErrorString(code),\n",
        "                file, line);\n",
        "        exit(code);\n",
        "    }\n",
        "}\n",
        "\n",
        "\n",
        "__global__ void dot(int* a, int *b, int *c) {\n",
        "\n",
        "  __shared__ int cache[threadsPerBlock];\n",
        "\n",
        "  int tid = threadIdx.x + blockDim.x * blockIdx.x;\n",
        "\n",
        "  int temp =0;\n",
        "\n",
        "\n",
        "  while (tid < N) {\n",
        "    temp += a[tid]*b[tid];\n",
        "    tid += blockDim.x*gridDim.x; //stride by the number of total threads to get to the next access point for our curr thread\n",
        "  }\n",
        "  cache[threadIdx.x] = temp; //now put temp val in block-wide cache so we can then reduce per block\n",
        "  __syncthreads();\n",
        "\n",
        "  for (int stride = threadsPerBlock/2; stride > 0; stride /= 2) {\n",
        "    if (threadIdx.x < stride) {\n",
        "      cache[threadIdx.x] += cache[threadIdx.x + stride];\n",
        "    }\n",
        "    __syncthreads();\n",
        "  }\n",
        "  //now at cache[0] is our blockreduced sum, we can load it into int *c\n",
        "\n",
        "  c[blockIdx.x] = cache[0];\n",
        "\n",
        "}\n",
        "\n",
        "int main() {\n",
        "  dim3 block_size(threadsPerBlock);\n",
        "  dim3 grid_size(blocksPerGrid);\n",
        "\n",
        "  cudaError_t err;\n",
        "\n",
        "\n",
        "  int *a;\n",
        "  int *b;\n",
        "  int *c;\n",
        "  int *dev_a;\n",
        "  int *dev_b;\n",
        "  int *dev_c;\n",
        "\n",
        "\n",
        "  a = (int *)malloc(N*sizeof(int));\n",
        "  b = (int *)malloc(N*sizeof(int));\n",
        "  c = (int *)malloc(blocksPerGrid*sizeof(int));\n",
        "\n",
        "  for (int i = 0; i < N; i++) {\n",
        "    a[i] = i;\n",
        "    b[i] = i;\n",
        "  }\n",
        "\n",
        "  err = cudaMalloc((void**)&dev_a, N*sizeof(int));\n",
        "  err = cudaMalloc((void**)&dev_b, N*sizeof(int));\n",
        "  err = cudaMalloc((void**)&dev_c, blocksPerGrid*sizeof(int));\n",
        "\n",
        "  cudaMemcpy(dev_a, a, N*sizeof(int), cudaMemcpyHostToDevice);\n",
        "  cudaMemcpy(dev_b, b, N*sizeof(int), cudaMemcpyHostToDevice);\n",
        "  cudaMemcpy(dev_c, c, blocksPerGrid*sizeof(int), cudaMemcpyHostToDevice);\n",
        "\n",
        "  cudaEvent_t start, stop;\n",
        "  CUDA_CHECK(cudaEventCreate(&start));\n",
        "  CUDA_CHECK(cudaEventCreate(&stop));\n",
        "  float ms = 0.f;\n",
        "\n",
        "  CUDA_CHECK(cudaEventRecord(start));\n",
        "\n",
        "\n",
        "  dot<<<grid_size, block_size>>>(dev_a, dev_b, dev_c);\n",
        "\n",
        "  CUDA_CHECK(cudaEventRecord(stop));\n",
        "  CUDA_CHECK(cudaEventSynchronize(stop));\n",
        "  CUDA_CHECK(cudaEventElapsedTime(&ms, start, stop));\n",
        "  printf(\">> Kernel execution time: %f ms\\n\", ms);\n",
        "\n",
        "  CUDA_CHECK(cudaEventDestroy(start));\n",
        "  CUDA_CHECK(cudaEventDestroy(stop));\n",
        "\n",
        "  cudaMemcpy(c, dev_c, blocksPerGrid*sizeof(int), cudaMemcpyDeviceToHost);\n",
        "  int sum = 0;\n",
        "\n",
        "  for (int i=0; i < blocksPerGrid; i++) {\n",
        "    sum+= c[i];\n",
        "  }\n",
        "\n",
        "  printf(\"dotprod is %i\", sum);\n",
        "  free(a);\n",
        "  free(b);\n",
        "  free(c);\n",
        "  cudaFree(dev_a);\n",
        "  cudaFree(dev_b);\n",
        "  cudaFree(dev_c);\n",
        "\n",
        "\n",
        "}"
      ],
      "metadata": {
        "colab": {
          "base_uri": "https://localhost:8080/"
        },
        "id": "jsXP49yS4zRh",
        "outputId": "42e46de6-b539-4cc5-b165-1dc72f332b4d"
      },
      "execution_count": null,
      "outputs": [
        {
          "output_type": "stream",
          "name": "stdout",
          "text": [
            "Overwriting dotprod.cu\n"
          ]
        }
      ]
    },
    {
      "cell_type": "code",
      "source": [
        "!nvcc -arch=sm_75 dotprod.cu -o dot\n",
        "!./dot\n"
      ],
      "metadata": {
        "colab": {
          "base_uri": "https://localhost:8080/"
        },
        "id": "wuQ4SpmNIl5g",
        "outputId": "c065bf36-fb06-4ee7-d67e-5cb5f0138e91"
      },
      "execution_count": null,
      "outputs": [
        {
          "output_type": "stream",
          "name": "stdout",
          "text": [
            "\u001b[01m\u001b[0m\u001b[01mdotprod.cu(64)\u001b[0m: \u001b[01;35mwarning\u001b[0m #550-D: variable \u001b[01m\"err\"\u001b[0m was set but never used\n",
            "    cudaError_t err;\n",
            "                ^\n",
            "\n",
            "\u001b[01;36m\u001b[0m\u001b[01;36mRemark\u001b[0m: The warnings can be suppressed with \"-diag-suppress <warning-number>\"\n",
            "\n",
            ">> Kernel execution time: 0.165280 ms\n",
            "dotprod is 357389824"
          ]
        }
      ]
    },
    {
      "cell_type": "code",
      "source": [],
      "metadata": {
        "id": "xQ6bZuMVIqsu"
      },
      "execution_count": null,
      "outputs": []
    }
  ]
}