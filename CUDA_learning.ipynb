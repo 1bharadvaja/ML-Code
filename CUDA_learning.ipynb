{
  "nbformat": 4,
  "nbformat_minor": 0,
  "metadata": {
    "colab": {
      "provenance": [],
      "gpuType": "T4",
      "authorship_tag": "ABX9TyP1DVdRP+VERf5fDuW8Pk9c",
      "include_colab_link": true
    },
    "kernelspec": {
      "name": "python3",
      "display_name": "Python 3"
    },
    "language_info": {
      "name": "python"
    },
    "accelerator": "GPU"
  },
  "cells": [
    {
      "cell_type": "markdown",
      "metadata": {
        "id": "view-in-github",
        "colab_type": "text"
      },
      "source": [
        "<a href=\"https://colab.research.google.com/github/1bharadvaja/ML-Code/blob/master/CUDA_learning.ipynb\" target=\"_parent\"><img src=\"https://colab.research.google.com/assets/colab-badge.svg\" alt=\"Open In Colab\"/></a>"
      ]
    },
    {
      "cell_type": "code",
      "execution_count": 1,
      "metadata": {
        "colab": {
          "base_uri": "https://localhost:8080/"
        },
        "id": "Zb0n2caAQjxO",
        "outputId": "50f73315-aa86-4232-cfc3-487438e90c64"
      },
      "outputs": [
        {
          "output_type": "stream",
          "name": "stdout",
          "text": [
            "nvcc: NVIDIA (R) Cuda compiler driver\n",
            "Copyright (c) 2005-2024 NVIDIA Corporation\n",
            "Built on Thu_Jun__6_02:18:23_PDT_2024\n",
            "Cuda compilation tools, release 12.5, V12.5.82\n",
            "Build cuda_12.5.r12.5/compiler.34385749_0\n"
          ]
        }
      ],
      "source": [
        "!nvcc --version"
      ]
    },
    {
      "cell_type": "code",
      "source": [
        "!pip install --quiet \"nvcc4jupyter==1.1.0\"\n"
      ],
      "metadata": {
        "id": "rNF7T74bQwMs"
      },
      "execution_count": 11,
      "outputs": []
    },
    {
      "cell_type": "code",
      "source": [
        "%load_ext nvcc4jupyter"
      ],
      "metadata": {
        "colab": {
          "base_uri": "https://localhost:8080/"
        },
        "id": "LNjqGC96Q6Ra",
        "outputId": "ba0436fc-66db-4500-c84c-84c8b8207c1f"
      },
      "execution_count": 3,
      "outputs": [
        {
          "output_type": "stream",
          "name": "stdout",
          "text": [
            "Detected platform \"Colab\". Running its setup...\n",
            "Source files will be saved in \"/tmp/tmpdfyy0gr7\".\n"
          ]
        }
      ]
    },
    {
      "cell_type": "code",
      "source": [
        "%%writefile hello.cu\n",
        "#include <stdio.h>\n",
        "#include <cuda_runtime.h>\n",
        "\n",
        "#define CHECK(call) do {                                           \\\n",
        "  cudaError_t err__ = (call);                                      \\\n",
        "  if (err__ != cudaSuccess) {                                      \\\n",
        "    fprintf(stderr, \"CUDA error %s at %s:%d\\n\",                    \\\n",
        "            cudaGetErrorString(err__), __FILE__, __LINE__);        \\\n",
        "    return 1;                                                      \\\n",
        "  }                                                                \\\n",
        "} while (0)\n",
        "\n",
        "__global__ void hello(){\n",
        "  printf(\"Hello from block %u, thread %u\\n\", blockIdx.x, threadIdx.x);\n",
        "}\n",
        "\n",
        "int main(){\n",
        "  int devCount = 0;\n",
        "  CHECK(cudaGetDeviceCount(&devCount));\n",
        "  if (devCount == 0) { fprintf(stderr, \"No CUDA device visible.\\n\"); return 1; }\n",
        "\n",
        "  // Optional: make the device printf buffer large (not needed here, but good habit)\n",
        "  CHECK(cudaDeviceSetLimit(cudaLimitPrintfFifoSize, 8 * 1024 * 1024));\n",
        "\n",
        "  hello<<<2, 2>>>();\n",
        "  CHECK(cudaGetLastError());          // catch launch errors\n",
        "  CHECK(cudaDeviceSynchronize());     // flush device-side printf\n",
        "  CHECK(cudaDeviceReset());           // final flush & clean exit\n",
        "  return 0;\n",
        "}\n"
      ],
      "metadata": {
        "colab": {
          "base_uri": "https://localhost:8080/"
        },
        "id": "CDQAp6h2RCwI",
        "outputId": "7c5fc9d4-9ff1-40b8-92be-e1b58e45f1d8"
      },
      "execution_count": 14,
      "outputs": [
        {
          "output_type": "stream",
          "name": "stdout",
          "text": [
            "Writing hello.cu\n"
          ]
        }
      ]
    },
    {
      "cell_type": "code",
      "source": [
        "!nvcc -arch=sm_75 hello.cu -o hello\n",
        "!./hello\n"
      ],
      "metadata": {
        "colab": {
          "base_uri": "https://localhost:8080/"
        },
        "id": "aNOTccrfRJQn",
        "outputId": "1836c9f9-68ca-446b-daee-4526cbf16d78"
      },
      "execution_count": 15,
      "outputs": [
        {
          "output_type": "stream",
          "name": "stdout",
          "text": [
            "Hello from block 0, thread 0\n",
            "Hello from block 0, thread 1\n",
            "Hello from block 1, thread 0\n",
            "Hello from block 1, thread 1\n"
          ]
        }
      ]
    },
    {
      "cell_type": "code",
      "source": [
        "%%writefile softmax.cu\n",
        "\n",
        "#include <stdio.h>\n",
        "#include <cuda_runtime.h>\n",
        "#include <math.h>\n",
        "\n",
        "const int N = 1024*32\n",
        "\n",
        "const int threadsPerBlock = 256;\n",
        "const int blocksPerGrid = 128\n",
        "\n",
        "\n",
        "\n",
        "\n",
        "__global__ void softmax(float *vec, float *res) {\n",
        "  __shared__ float cache[threadsPerBlock]; //next level on the memory hierarchy, scope is per block so want the number of threads per\n",
        "  float local_max = -INFINITY\n",
        "  float local_norm = 0.0f\n",
        "\n",
        "  int tid = threadIdx.x + blockIdx.x * blockDim.x;\n",
        "\n",
        "  int cacheIndex = threadIdx.x; //why? for each block, want one entry for each thread\n",
        "\n",
        "  //online softmax\n",
        "  for (int i = tid; i <= threadsPerBlock*blocksPerGrid; i+= blockDim.x) {\n",
        "    float x = vec[i];\n",
        "\n",
        "    if (x > local_max) {\n",
        "      local_norm *= expf(local_max - x);\n",
        "      local_max = x;\n",
        "    }\n",
        "    local_norm += expf(x - local_max);\n",
        "  }\n",
        "\n",
        "  __syncthreads(); //i want to try implementing the syncthreads primitive using semaphores later\n",
        "  //now we have thread level local_norms and local_maxes, the next step is to reduce them thru shared memory in logN time to get a globalmax\n",
        "\n",
        "  cache[tid] = local_max;\n",
        "  __syncthreads();\n",
        "  for (int stride = threadsPerBlock/2; stride != 0; stride = stride/2) {\n",
        "    if (tid < stride) {\n",
        "      cache[tid] = fmax(cache[tid], cache[tid + stride]);\n",
        "    }\n",
        "\n",
        "    __syncthreads();\n",
        "\n",
        "  }\n",
        "  //now we have a global max at cache[0], so we need to correct the local_norm\n",
        "  float global_max = cache[0];\n",
        "  local_norm *= expf(local_max - global_max);\n",
        "\n",
        "  cache[tid] = local_norm;\n",
        "\n",
        "  for (int stride = threadsPerBlock/2; stride != 0; stride = stride/2) {\n",
        "    if (tid < stride) {\n",
        "      cache[tid] += cache[tid + stride];\n",
        "    }\n",
        "    __syncthreads();\n",
        "\n",
        "  }\n",
        "\n",
        "  float global_norm = cache[0]; //now we have the global norm stored as well, can actually do the softmax computation now\n",
        "\n",
        "  for (int i = tid; i < threadsPerBlock; i += blockDim.x) {\n",
        "    res[tid] = expf(vec[tid] - global_max) / global_norm;\n",
        "\n",
        "  }\n",
        "\n",
        "\n",
        "\n",
        "}\n",
        "\n",
        "int main() {\n",
        "  dim3 block_size(threadsPerBlock);\n",
        "  dim3 grid_size(blocksPerGrid);\n",
        "\n",
        "  float *vec;\n",
        "  float *res;\n",
        "\n",
        "\n",
        "  vec = malloc(N*sizeof(float));\n",
        "  res = malloc(N*sizeof(float));\n",
        "\n",
        "  for (int i = 0; i < N; i++) {\n",
        "    vec[i] = rand();\n",
        "  }\n",
        "\n",
        "  float *dev_vec;\n",
        "  float *dev_res;\n",
        "\n",
        "  float dev_vec = cudaMalloc((void**)&dev_vec, N*sizeof(float));\n",
        "  float dev_res = cudaMalloc((void**)&dev_res, N*sizeof(float));\n",
        "\n",
        "  cudaMemcpy(dev_vec, vec, N*sizeof(float), cudaMemcpyHostToDevice);\n",
        "\n",
        "  cudaEvent_t start, stop;\n",
        "  CUDA_CHECK(cudaEventCreate(&start));\n",
        "  CUDA_CHECK(cudaEventCreate(&stop));\n",
        "  float ms = 0.f;\n",
        "\n",
        "  CUDA_CHECK(cudaEventRecord(start));\n",
        "\n",
        "  softmax<<<grid_size, block_size>>>(dev_vec, dev_res);\n",
        "\n",
        "  CUDA_CHECK(cudaEventRecord(stop));\n",
        "  CUDA_CHECK(cudaEventSynchronize(stop));\n",
        "  CUDA_CHECK(cudaEventElapsedTime(&ms, start, stop));\n",
        "  printf(\">> Kernel execution time: %f ms\\n\", ms);\n",
        "\n",
        "  CUDA_CHECK(cudaEventDestroy(start));\n",
        "  CUDA_CHECK(cudaEventDestroy(stop));\n",
        "\n",
        "}\n",
        "\n"
      ],
      "metadata": {
        "colab": {
          "base_uri": "https://localhost:8080/"
        },
        "id": "47A_t82Zc44V",
        "outputId": "ce2efc81-9da9-4593-a436-fa3c106d7a90"
      },
      "execution_count": 1,
      "outputs": [
        {
          "output_type": "stream",
          "name": "stdout",
          "text": [
            "Writing softmax.cu\n"
          ]
        }
      ]
    },
    {
      "cell_type": "code",
      "source": [],
      "metadata": {
        "id": "Y59t5kAZyQfJ"
      },
      "execution_count": null,
      "outputs": []
    }
  ]
}